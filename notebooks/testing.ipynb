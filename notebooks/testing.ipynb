{
 "cells": [
  {
   "cell_type": "code",
   "execution_count": 1,
   "id": "7d76b05f",
   "metadata": {},
   "outputs": [
    {
     "name": "stderr",
     "output_type": "stream",
     "text": [
      "/home/vasim/Khatir/Projects/shiv-experts-assignment/.venv/lib/python3.10/site-packages/tqdm/auto.py:21: TqdmWarning: IProgress not found. Please update jupyter and ipywidgets. See https://ipywidgets.readthedocs.io/en/stable/user_install.html\n",
      "  from .autonotebook import tqdm as notebook_tqdm\n"
     ]
    },
    {
     "ename": "EntryNotFoundError",
     "evalue": "404 Client Error. (Request ID: Root=1-681db6ce-2ce17fee643d74aa79d31cd4;c5c7c007-db80-4f0d-a198-f49796330d85)\n\nEntry Not Found for url: https://huggingface.co/microsoft/speecht5_tts/resolve/main/embeddings/spk1_emb.pt.",
     "output_type": "error",
     "traceback": [
      "\u001b[0;31m---------------------------------------------------------------------------\u001b[0m",
      "\u001b[0;31mHTTPError\u001b[0m                                 Traceback (most recent call last)",
      "File \u001b[0;32m~/Khatir/Projects/shiv-experts-assignment/.venv/lib/python3.10/site-packages/huggingface_hub/utils/_http.py:409\u001b[0m, in \u001b[0;36mhf_raise_for_status\u001b[0;34m(response, endpoint_name)\u001b[0m\n\u001b[1;32m    408\u001b[0m \u001b[38;5;28;01mtry\u001b[39;00m:\n\u001b[0;32m--> 409\u001b[0m     \u001b[43mresponse\u001b[49m\u001b[38;5;241;43m.\u001b[39;49m\u001b[43mraise_for_status\u001b[49m\u001b[43m(\u001b[49m\u001b[43m)\u001b[49m\n\u001b[1;32m    410\u001b[0m \u001b[38;5;28;01mexcept\u001b[39;00m HTTPError \u001b[38;5;28;01mas\u001b[39;00m e:\n",
      "File \u001b[0;32m~/Khatir/Projects/shiv-experts-assignment/.venv/lib/python3.10/site-packages/requests/models.py:1024\u001b[0m, in \u001b[0;36mResponse.raise_for_status\u001b[0;34m(self)\u001b[0m\n\u001b[1;32m   1023\u001b[0m \u001b[38;5;28;01mif\u001b[39;00m http_error_msg:\n\u001b[0;32m-> 1024\u001b[0m     \u001b[38;5;28;01mraise\u001b[39;00m HTTPError(http_error_msg, response\u001b[38;5;241m=\u001b[39m\u001b[38;5;28mself\u001b[39m)\n",
      "\u001b[0;31mHTTPError\u001b[0m: 404 Client Error: Not Found for url: https://huggingface.co/microsoft/speecht5_tts/resolve/main/embeddings/spk1_emb.pt",
      "\nThe above exception was the direct cause of the following exception:\n",
      "\u001b[0;31mEntryNotFoundError\u001b[0m                        Traceback (most recent call last)",
      "Cell \u001b[0;32mIn[1], line 4\u001b[0m\n\u001b[1;32m      1\u001b[0m \u001b[38;5;28;01mfrom\u001b[39;00m\u001b[38;5;250m \u001b[39m\u001b[38;5;21;01mhuggingface_hub\u001b[39;00m\u001b[38;5;250m \u001b[39m\u001b[38;5;28;01mimport\u001b[39;00m hf_hub_download\n\u001b[1;32m      3\u001b[0m \u001b[38;5;66;03m# Download speaker embedding file\u001b[39;00m\n\u001b[0;32m----> 4\u001b[0m embedding_path \u001b[38;5;241m=\u001b[39m \u001b[43mhf_hub_download\u001b[49m\u001b[43m(\u001b[49m\n\u001b[1;32m      5\u001b[0m \u001b[43m    \u001b[49m\u001b[43mrepo_id\u001b[49m\u001b[38;5;241;43m=\u001b[39;49m\u001b[38;5;124;43m\"\u001b[39;49m\u001b[38;5;124;43mmicrosoft/speecht5_tts\u001b[39;49m\u001b[38;5;124;43m\"\u001b[39;49m\u001b[43m,\u001b[49m\n\u001b[1;32m      6\u001b[0m \u001b[43m    \u001b[49m\u001b[43mfilename\u001b[49m\u001b[38;5;241;43m=\u001b[39;49m\u001b[38;5;124;43m\"\u001b[39;49m\u001b[38;5;124;43membeddings/spk1_emb.pt\u001b[39;49m\u001b[38;5;124;43m\"\u001b[39;49m\n\u001b[1;32m      7\u001b[0m \u001b[43m)\u001b[49m\n\u001b[1;32m      9\u001b[0m \u001b[38;5;28mprint\u001b[39m(\u001b[38;5;124m\"\u001b[39m\u001b[38;5;124mDownloaded to:\u001b[39m\u001b[38;5;124m\"\u001b[39m, embedding_path)\n",
      "File \u001b[0;32m~/Khatir/Projects/shiv-experts-assignment/.venv/lib/python3.10/site-packages/huggingface_hub/utils/_validators.py:114\u001b[0m, in \u001b[0;36mvalidate_hf_hub_args.<locals>._inner_fn\u001b[0;34m(*args, **kwargs)\u001b[0m\n\u001b[1;32m    111\u001b[0m \u001b[38;5;28;01mif\u001b[39;00m check_use_auth_token:\n\u001b[1;32m    112\u001b[0m     kwargs \u001b[38;5;241m=\u001b[39m smoothly_deprecate_use_auth_token(fn_name\u001b[38;5;241m=\u001b[39mfn\u001b[38;5;241m.\u001b[39m\u001b[38;5;18m__name__\u001b[39m, has_token\u001b[38;5;241m=\u001b[39mhas_token, kwargs\u001b[38;5;241m=\u001b[39mkwargs)\n\u001b[0;32m--> 114\u001b[0m \u001b[38;5;28;01mreturn\u001b[39;00m \u001b[43mfn\u001b[49m\u001b[43m(\u001b[49m\u001b[38;5;241;43m*\u001b[39;49m\u001b[43margs\u001b[49m\u001b[43m,\u001b[49m\u001b[43m \u001b[49m\u001b[38;5;241;43m*\u001b[39;49m\u001b[38;5;241;43m*\u001b[39;49m\u001b[43mkwargs\u001b[49m\u001b[43m)\u001b[49m\n",
      "File \u001b[0;32m~/Khatir/Projects/shiv-experts-assignment/.venv/lib/python3.10/site-packages/huggingface_hub/file_download.py:1008\u001b[0m, in \u001b[0;36mhf_hub_download\u001b[0;34m(repo_id, filename, subfolder, repo_type, revision, library_name, library_version, cache_dir, local_dir, user_agent, force_download, proxies, etag_timeout, token, local_files_only, headers, endpoint, resume_download, force_filename, local_dir_use_symlinks)\u001b[0m\n\u001b[1;32m    988\u001b[0m     \u001b[38;5;28;01mreturn\u001b[39;00m _hf_hub_download_to_local_dir(\n\u001b[1;32m    989\u001b[0m         \u001b[38;5;66;03m# Destination\u001b[39;00m\n\u001b[1;32m    990\u001b[0m         local_dir\u001b[38;5;241m=\u001b[39mlocal_dir,\n\u001b[0;32m   (...)\u001b[0m\n\u001b[1;32m   1005\u001b[0m         local_files_only\u001b[38;5;241m=\u001b[39mlocal_files_only,\n\u001b[1;32m   1006\u001b[0m     )\n\u001b[1;32m   1007\u001b[0m \u001b[38;5;28;01melse\u001b[39;00m:\n\u001b[0;32m-> 1008\u001b[0m     \u001b[38;5;28;01mreturn\u001b[39;00m \u001b[43m_hf_hub_download_to_cache_dir\u001b[49m\u001b[43m(\u001b[49m\n\u001b[1;32m   1009\u001b[0m \u001b[43m        \u001b[49m\u001b[38;5;66;43;03m# Destination\u001b[39;49;00m\n\u001b[1;32m   1010\u001b[0m \u001b[43m        \u001b[49m\u001b[43mcache_dir\u001b[49m\u001b[38;5;241;43m=\u001b[39;49m\u001b[43mcache_dir\u001b[49m\u001b[43m,\u001b[49m\n\u001b[1;32m   1011\u001b[0m \u001b[43m        \u001b[49m\u001b[38;5;66;43;03m# File info\u001b[39;49;00m\n\u001b[1;32m   1012\u001b[0m \u001b[43m        \u001b[49m\u001b[43mrepo_id\u001b[49m\u001b[38;5;241;43m=\u001b[39;49m\u001b[43mrepo_id\u001b[49m\u001b[43m,\u001b[49m\n\u001b[1;32m   1013\u001b[0m \u001b[43m        \u001b[49m\u001b[43mfilename\u001b[49m\u001b[38;5;241;43m=\u001b[39;49m\u001b[43mfilename\u001b[49m\u001b[43m,\u001b[49m\n\u001b[1;32m   1014\u001b[0m \u001b[43m        \u001b[49m\u001b[43mrepo_type\u001b[49m\u001b[38;5;241;43m=\u001b[39;49m\u001b[43mrepo_type\u001b[49m\u001b[43m,\u001b[49m\n\u001b[1;32m   1015\u001b[0m \u001b[43m        \u001b[49m\u001b[43mrevision\u001b[49m\u001b[38;5;241;43m=\u001b[39;49m\u001b[43mrevision\u001b[49m\u001b[43m,\u001b[49m\n\u001b[1;32m   1016\u001b[0m \u001b[43m        \u001b[49m\u001b[38;5;66;43;03m# HTTP info\u001b[39;49;00m\n\u001b[1;32m   1017\u001b[0m \u001b[43m        \u001b[49m\u001b[43mendpoint\u001b[49m\u001b[38;5;241;43m=\u001b[39;49m\u001b[43mendpoint\u001b[49m\u001b[43m,\u001b[49m\n\u001b[1;32m   1018\u001b[0m \u001b[43m        \u001b[49m\u001b[43metag_timeout\u001b[49m\u001b[38;5;241;43m=\u001b[39;49m\u001b[43metag_timeout\u001b[49m\u001b[43m,\u001b[49m\n\u001b[1;32m   1019\u001b[0m \u001b[43m        \u001b[49m\u001b[43mheaders\u001b[49m\u001b[38;5;241;43m=\u001b[39;49m\u001b[43mhf_headers\u001b[49m\u001b[43m,\u001b[49m\n\u001b[1;32m   1020\u001b[0m \u001b[43m        \u001b[49m\u001b[43mproxies\u001b[49m\u001b[38;5;241;43m=\u001b[39;49m\u001b[43mproxies\u001b[49m\u001b[43m,\u001b[49m\n\u001b[1;32m   1021\u001b[0m \u001b[43m        \u001b[49m\u001b[43mtoken\u001b[49m\u001b[38;5;241;43m=\u001b[39;49m\u001b[43mtoken\u001b[49m\u001b[43m,\u001b[49m\n\u001b[1;32m   1022\u001b[0m \u001b[43m        \u001b[49m\u001b[38;5;66;43;03m# Additional options\u001b[39;49;00m\n\u001b[1;32m   1023\u001b[0m \u001b[43m        \u001b[49m\u001b[43mlocal_files_only\u001b[49m\u001b[38;5;241;43m=\u001b[39;49m\u001b[43mlocal_files_only\u001b[49m\u001b[43m,\u001b[49m\n\u001b[1;32m   1024\u001b[0m \u001b[43m        \u001b[49m\u001b[43mforce_download\u001b[49m\u001b[38;5;241;43m=\u001b[39;49m\u001b[43mforce_download\u001b[49m\u001b[43m,\u001b[49m\n\u001b[1;32m   1025\u001b[0m \u001b[43m    \u001b[49m\u001b[43m)\u001b[49m\n",
      "File \u001b[0;32m~/Khatir/Projects/shiv-experts-assignment/.venv/lib/python3.10/site-packages/huggingface_hub/file_download.py:1071\u001b[0m, in \u001b[0;36m_hf_hub_download_to_cache_dir\u001b[0;34m(cache_dir, repo_id, filename, repo_type, revision, endpoint, etag_timeout, headers, proxies, token, local_files_only, force_download)\u001b[0m\n\u001b[1;32m   1067\u001b[0m         \u001b[38;5;28;01mreturn\u001b[39;00m pointer_path\n\u001b[1;32m   1069\u001b[0m \u001b[38;5;66;03m# Try to get metadata (etag, commit_hash, url, size) from the server.\u001b[39;00m\n\u001b[1;32m   1070\u001b[0m \u001b[38;5;66;03m# If we can't, a HEAD request error is returned.\u001b[39;00m\n\u001b[0;32m-> 1071\u001b[0m (url_to_download, etag, commit_hash, expected_size, xet_file_data, head_call_error) \u001b[38;5;241m=\u001b[39m \u001b[43m_get_metadata_or_catch_error\u001b[49m\u001b[43m(\u001b[49m\n\u001b[1;32m   1072\u001b[0m \u001b[43m    \u001b[49m\u001b[43mrepo_id\u001b[49m\u001b[38;5;241;43m=\u001b[39;49m\u001b[43mrepo_id\u001b[49m\u001b[43m,\u001b[49m\n\u001b[1;32m   1073\u001b[0m \u001b[43m    \u001b[49m\u001b[43mfilename\u001b[49m\u001b[38;5;241;43m=\u001b[39;49m\u001b[43mfilename\u001b[49m\u001b[43m,\u001b[49m\n\u001b[1;32m   1074\u001b[0m \u001b[43m    \u001b[49m\u001b[43mrepo_type\u001b[49m\u001b[38;5;241;43m=\u001b[39;49m\u001b[43mrepo_type\u001b[49m\u001b[43m,\u001b[49m\n\u001b[1;32m   1075\u001b[0m \u001b[43m    \u001b[49m\u001b[43mrevision\u001b[49m\u001b[38;5;241;43m=\u001b[39;49m\u001b[43mrevision\u001b[49m\u001b[43m,\u001b[49m\n\u001b[1;32m   1076\u001b[0m \u001b[43m    \u001b[49m\u001b[43mendpoint\u001b[49m\u001b[38;5;241;43m=\u001b[39;49m\u001b[43mendpoint\u001b[49m\u001b[43m,\u001b[49m\n\u001b[1;32m   1077\u001b[0m \u001b[43m    \u001b[49m\u001b[43mproxies\u001b[49m\u001b[38;5;241;43m=\u001b[39;49m\u001b[43mproxies\u001b[49m\u001b[43m,\u001b[49m\n\u001b[1;32m   1078\u001b[0m \u001b[43m    \u001b[49m\u001b[43metag_timeout\u001b[49m\u001b[38;5;241;43m=\u001b[39;49m\u001b[43metag_timeout\u001b[49m\u001b[43m,\u001b[49m\n\u001b[1;32m   1079\u001b[0m \u001b[43m    \u001b[49m\u001b[43mheaders\u001b[49m\u001b[38;5;241;43m=\u001b[39;49m\u001b[43mheaders\u001b[49m\u001b[43m,\u001b[49m\n\u001b[1;32m   1080\u001b[0m \u001b[43m    \u001b[49m\u001b[43mtoken\u001b[49m\u001b[38;5;241;43m=\u001b[39;49m\u001b[43mtoken\u001b[49m\u001b[43m,\u001b[49m\n\u001b[1;32m   1081\u001b[0m \u001b[43m    \u001b[49m\u001b[43mlocal_files_only\u001b[49m\u001b[38;5;241;43m=\u001b[39;49m\u001b[43mlocal_files_only\u001b[49m\u001b[43m,\u001b[49m\n\u001b[1;32m   1082\u001b[0m \u001b[43m    \u001b[49m\u001b[43mstorage_folder\u001b[49m\u001b[38;5;241;43m=\u001b[39;49m\u001b[43mstorage_folder\u001b[49m\u001b[43m,\u001b[49m\n\u001b[1;32m   1083\u001b[0m \u001b[43m    \u001b[49m\u001b[43mrelative_filename\u001b[49m\u001b[38;5;241;43m=\u001b[39;49m\u001b[43mrelative_filename\u001b[49m\u001b[43m,\u001b[49m\n\u001b[1;32m   1084\u001b[0m \u001b[43m\u001b[49m\u001b[43m)\u001b[49m\n\u001b[1;32m   1086\u001b[0m \u001b[38;5;66;03m# etag can be None for several reasons:\u001b[39;00m\n\u001b[1;32m   1087\u001b[0m \u001b[38;5;66;03m# 1. we passed local_files_only.\u001b[39;00m\n\u001b[1;32m   1088\u001b[0m \u001b[38;5;66;03m# 2. we don't have a connection\u001b[39;00m\n\u001b[0;32m   (...)\u001b[0m\n\u001b[1;32m   1094\u001b[0m \u001b[38;5;66;03m# If the specified revision is a commit hash, look inside \"snapshots\".\u001b[39;00m\n\u001b[1;32m   1095\u001b[0m \u001b[38;5;66;03m# If the specified revision is a branch or tag, look inside \"refs\".\u001b[39;00m\n\u001b[1;32m   1096\u001b[0m \u001b[38;5;28;01mif\u001b[39;00m head_call_error \u001b[38;5;129;01mis\u001b[39;00m \u001b[38;5;129;01mnot\u001b[39;00m \u001b[38;5;28;01mNone\u001b[39;00m:\n\u001b[1;32m   1097\u001b[0m     \u001b[38;5;66;03m# Couldn't make a HEAD call => let's try to find a local file\u001b[39;00m\n",
      "File \u001b[0;32m~/Khatir/Projects/shiv-experts-assignment/.venv/lib/python3.10/site-packages/huggingface_hub/file_download.py:1531\u001b[0m, in \u001b[0;36m_get_metadata_or_catch_error\u001b[0;34m(repo_id, filename, repo_type, revision, endpoint, proxies, etag_timeout, headers, token, local_files_only, relative_filename, storage_folder)\u001b[0m\n\u001b[1;32m   1529\u001b[0m \u001b[38;5;28;01mtry\u001b[39;00m:\n\u001b[1;32m   1530\u001b[0m     \u001b[38;5;28;01mtry\u001b[39;00m:\n\u001b[0;32m-> 1531\u001b[0m         metadata \u001b[38;5;241m=\u001b[39m \u001b[43mget_hf_file_metadata\u001b[49m\u001b[43m(\u001b[49m\n\u001b[1;32m   1532\u001b[0m \u001b[43m            \u001b[49m\u001b[43murl\u001b[49m\u001b[38;5;241;43m=\u001b[39;49m\u001b[43murl\u001b[49m\u001b[43m,\u001b[49m\u001b[43m \u001b[49m\u001b[43mproxies\u001b[49m\u001b[38;5;241;43m=\u001b[39;49m\u001b[43mproxies\u001b[49m\u001b[43m,\u001b[49m\u001b[43m \u001b[49m\u001b[43mtimeout\u001b[49m\u001b[38;5;241;43m=\u001b[39;49m\u001b[43metag_timeout\u001b[49m\u001b[43m,\u001b[49m\u001b[43m \u001b[49m\u001b[43mheaders\u001b[49m\u001b[38;5;241;43m=\u001b[39;49m\u001b[43mheaders\u001b[49m\u001b[43m,\u001b[49m\u001b[43m \u001b[49m\u001b[43mtoken\u001b[49m\u001b[38;5;241;43m=\u001b[39;49m\u001b[43mtoken\u001b[49m\n\u001b[1;32m   1533\u001b[0m \u001b[43m        \u001b[49m\u001b[43m)\u001b[49m\n\u001b[1;32m   1534\u001b[0m     \u001b[38;5;28;01mexcept\u001b[39;00m EntryNotFoundError \u001b[38;5;28;01mas\u001b[39;00m http_error:\n\u001b[1;32m   1535\u001b[0m         \u001b[38;5;28;01mif\u001b[39;00m storage_folder \u001b[38;5;129;01mis\u001b[39;00m \u001b[38;5;129;01mnot\u001b[39;00m \u001b[38;5;28;01mNone\u001b[39;00m \u001b[38;5;129;01mand\u001b[39;00m relative_filename \u001b[38;5;129;01mis\u001b[39;00m \u001b[38;5;129;01mnot\u001b[39;00m \u001b[38;5;28;01mNone\u001b[39;00m:\n\u001b[1;32m   1536\u001b[0m             \u001b[38;5;66;03m# Cache the non-existence of the file\u001b[39;00m\n",
      "File \u001b[0;32m~/Khatir/Projects/shiv-experts-assignment/.venv/lib/python3.10/site-packages/huggingface_hub/utils/_validators.py:114\u001b[0m, in \u001b[0;36mvalidate_hf_hub_args.<locals>._inner_fn\u001b[0;34m(*args, **kwargs)\u001b[0m\n\u001b[1;32m    111\u001b[0m \u001b[38;5;28;01mif\u001b[39;00m check_use_auth_token:\n\u001b[1;32m    112\u001b[0m     kwargs \u001b[38;5;241m=\u001b[39m smoothly_deprecate_use_auth_token(fn_name\u001b[38;5;241m=\u001b[39mfn\u001b[38;5;241m.\u001b[39m\u001b[38;5;18m__name__\u001b[39m, has_token\u001b[38;5;241m=\u001b[39mhas_token, kwargs\u001b[38;5;241m=\u001b[39mkwargs)\n\u001b[0;32m--> 114\u001b[0m \u001b[38;5;28;01mreturn\u001b[39;00m \u001b[43mfn\u001b[49m\u001b[43m(\u001b[49m\u001b[38;5;241;43m*\u001b[39;49m\u001b[43margs\u001b[49m\u001b[43m,\u001b[49m\u001b[43m \u001b[49m\u001b[38;5;241;43m*\u001b[39;49m\u001b[38;5;241;43m*\u001b[39;49m\u001b[43mkwargs\u001b[49m\u001b[43m)\u001b[49m\n",
      "File \u001b[0;32m~/Khatir/Projects/shiv-experts-assignment/.venv/lib/python3.10/site-packages/huggingface_hub/file_download.py:1448\u001b[0m, in \u001b[0;36mget_hf_file_metadata\u001b[0;34m(url, token, proxies, timeout, library_name, library_version, user_agent, headers)\u001b[0m\n\u001b[1;32m   1445\u001b[0m hf_headers[\u001b[38;5;124m\"\u001b[39m\u001b[38;5;124mAccept-Encoding\u001b[39m\u001b[38;5;124m\"\u001b[39m] \u001b[38;5;241m=\u001b[39m \u001b[38;5;124m\"\u001b[39m\u001b[38;5;124midentity\u001b[39m\u001b[38;5;124m\"\u001b[39m  \u001b[38;5;66;03m# prevent any compression => we want to know the real size of the file\u001b[39;00m\n\u001b[1;32m   1447\u001b[0m \u001b[38;5;66;03m# Retrieve metadata\u001b[39;00m\n\u001b[0;32m-> 1448\u001b[0m r \u001b[38;5;241m=\u001b[39m \u001b[43m_request_wrapper\u001b[49m\u001b[43m(\u001b[49m\n\u001b[1;32m   1449\u001b[0m \u001b[43m    \u001b[49m\u001b[43mmethod\u001b[49m\u001b[38;5;241;43m=\u001b[39;49m\u001b[38;5;124;43m\"\u001b[39;49m\u001b[38;5;124;43mHEAD\u001b[39;49m\u001b[38;5;124;43m\"\u001b[39;49m\u001b[43m,\u001b[49m\n\u001b[1;32m   1450\u001b[0m \u001b[43m    \u001b[49m\u001b[43murl\u001b[49m\u001b[38;5;241;43m=\u001b[39;49m\u001b[43murl\u001b[49m\u001b[43m,\u001b[49m\n\u001b[1;32m   1451\u001b[0m \u001b[43m    \u001b[49m\u001b[43mheaders\u001b[49m\u001b[38;5;241;43m=\u001b[39;49m\u001b[43mhf_headers\u001b[49m\u001b[43m,\u001b[49m\n\u001b[1;32m   1452\u001b[0m \u001b[43m    \u001b[49m\u001b[43mallow_redirects\u001b[49m\u001b[38;5;241;43m=\u001b[39;49m\u001b[38;5;28;43;01mFalse\u001b[39;49;00m\u001b[43m,\u001b[49m\n\u001b[1;32m   1453\u001b[0m \u001b[43m    \u001b[49m\u001b[43mfollow_relative_redirects\u001b[49m\u001b[38;5;241;43m=\u001b[39;49m\u001b[38;5;28;43;01mTrue\u001b[39;49;00m\u001b[43m,\u001b[49m\n\u001b[1;32m   1454\u001b[0m \u001b[43m    \u001b[49m\u001b[43mproxies\u001b[49m\u001b[38;5;241;43m=\u001b[39;49m\u001b[43mproxies\u001b[49m\u001b[43m,\u001b[49m\n\u001b[1;32m   1455\u001b[0m \u001b[43m    \u001b[49m\u001b[43mtimeout\u001b[49m\u001b[38;5;241;43m=\u001b[39;49m\u001b[43mtimeout\u001b[49m\u001b[43m,\u001b[49m\n\u001b[1;32m   1456\u001b[0m \u001b[43m\u001b[49m\u001b[43m)\u001b[49m\n\u001b[1;32m   1457\u001b[0m hf_raise_for_status(r)\n\u001b[1;32m   1459\u001b[0m \u001b[38;5;66;03m# Return\u001b[39;00m\n",
      "File \u001b[0;32m~/Khatir/Projects/shiv-experts-assignment/.venv/lib/python3.10/site-packages/huggingface_hub/file_download.py:286\u001b[0m, in \u001b[0;36m_request_wrapper\u001b[0;34m(method, url, follow_relative_redirects, **params)\u001b[0m\n\u001b[1;32m    284\u001b[0m \u001b[38;5;66;03m# Recursively follow relative redirects\u001b[39;00m\n\u001b[1;32m    285\u001b[0m \u001b[38;5;28;01mif\u001b[39;00m follow_relative_redirects:\n\u001b[0;32m--> 286\u001b[0m     response \u001b[38;5;241m=\u001b[39m \u001b[43m_request_wrapper\u001b[49m\u001b[43m(\u001b[49m\n\u001b[1;32m    287\u001b[0m \u001b[43m        \u001b[49m\u001b[43mmethod\u001b[49m\u001b[38;5;241;43m=\u001b[39;49m\u001b[43mmethod\u001b[49m\u001b[43m,\u001b[49m\n\u001b[1;32m    288\u001b[0m \u001b[43m        \u001b[49m\u001b[43murl\u001b[49m\u001b[38;5;241;43m=\u001b[39;49m\u001b[43murl\u001b[49m\u001b[43m,\u001b[49m\n\u001b[1;32m    289\u001b[0m \u001b[43m        \u001b[49m\u001b[43mfollow_relative_redirects\u001b[49m\u001b[38;5;241;43m=\u001b[39;49m\u001b[38;5;28;43;01mFalse\u001b[39;49;00m\u001b[43m,\u001b[49m\n\u001b[1;32m    290\u001b[0m \u001b[43m        \u001b[49m\u001b[38;5;241;43m*\u001b[39;49m\u001b[38;5;241;43m*\u001b[39;49m\u001b[43mparams\u001b[49m\u001b[43m,\u001b[49m\n\u001b[1;32m    291\u001b[0m \u001b[43m    \u001b[49m\u001b[43m)\u001b[49m\n\u001b[1;32m    293\u001b[0m     \u001b[38;5;66;03m# If redirection, we redirect only relative paths.\u001b[39;00m\n\u001b[1;32m    294\u001b[0m     \u001b[38;5;66;03m# This is useful in case of a renamed repository.\u001b[39;00m\n\u001b[1;32m    295\u001b[0m     \u001b[38;5;28;01mif\u001b[39;00m \u001b[38;5;241m300\u001b[39m \u001b[38;5;241m<\u001b[39m\u001b[38;5;241m=\u001b[39m response\u001b[38;5;241m.\u001b[39mstatus_code \u001b[38;5;241m<\u001b[39m\u001b[38;5;241m=\u001b[39m \u001b[38;5;241m399\u001b[39m:\n",
      "File \u001b[0;32m~/Khatir/Projects/shiv-experts-assignment/.venv/lib/python3.10/site-packages/huggingface_hub/file_download.py:310\u001b[0m, in \u001b[0;36m_request_wrapper\u001b[0;34m(method, url, follow_relative_redirects, **params)\u001b[0m\n\u001b[1;32m    308\u001b[0m \u001b[38;5;66;03m# Perform request and return if status_code is not in the retry list.\u001b[39;00m\n\u001b[1;32m    309\u001b[0m response \u001b[38;5;241m=\u001b[39m http_backoff(method\u001b[38;5;241m=\u001b[39mmethod, url\u001b[38;5;241m=\u001b[39murl, \u001b[38;5;241m*\u001b[39m\u001b[38;5;241m*\u001b[39mparams, retry_on_exceptions\u001b[38;5;241m=\u001b[39m(), retry_on_status_codes\u001b[38;5;241m=\u001b[39m(\u001b[38;5;241m429\u001b[39m,))\n\u001b[0;32m--> 310\u001b[0m \u001b[43mhf_raise_for_status\u001b[49m\u001b[43m(\u001b[49m\u001b[43mresponse\u001b[49m\u001b[43m)\u001b[49m\n\u001b[1;32m    311\u001b[0m \u001b[38;5;28;01mreturn\u001b[39;00m response\n",
      "File \u001b[0;32m~/Khatir/Projects/shiv-experts-assignment/.venv/lib/python3.10/site-packages/huggingface_hub/utils/_http.py:420\u001b[0m, in \u001b[0;36mhf_raise_for_status\u001b[0;34m(response, endpoint_name)\u001b[0m\n\u001b[1;32m    418\u001b[0m \u001b[38;5;28;01melif\u001b[39;00m error_code \u001b[38;5;241m==\u001b[39m \u001b[38;5;124m\"\u001b[39m\u001b[38;5;124mEntryNotFound\u001b[39m\u001b[38;5;124m\"\u001b[39m:\n\u001b[1;32m    419\u001b[0m     message \u001b[38;5;241m=\u001b[39m \u001b[38;5;124mf\u001b[39m\u001b[38;5;124m\"\u001b[39m\u001b[38;5;132;01m{\u001b[39;00mresponse\u001b[38;5;241m.\u001b[39mstatus_code\u001b[38;5;132;01m}\u001b[39;00m\u001b[38;5;124m Client Error.\u001b[39m\u001b[38;5;124m\"\u001b[39m \u001b[38;5;241m+\u001b[39m \u001b[38;5;124m\"\u001b[39m\u001b[38;5;130;01m\\n\u001b[39;00m\u001b[38;5;130;01m\\n\u001b[39;00m\u001b[38;5;124m\"\u001b[39m \u001b[38;5;241m+\u001b[39m \u001b[38;5;124mf\u001b[39m\u001b[38;5;124m\"\u001b[39m\u001b[38;5;124mEntry Not Found for url: \u001b[39m\u001b[38;5;132;01m{\u001b[39;00mresponse\u001b[38;5;241m.\u001b[39murl\u001b[38;5;132;01m}\u001b[39;00m\u001b[38;5;124m.\u001b[39m\u001b[38;5;124m\"\u001b[39m\n\u001b[0;32m--> 420\u001b[0m     \u001b[38;5;28;01mraise\u001b[39;00m _format(EntryNotFoundError, message, response) \u001b[38;5;28;01mfrom\u001b[39;00m\u001b[38;5;250m \u001b[39m\u001b[38;5;21;01me\u001b[39;00m\n\u001b[1;32m    422\u001b[0m \u001b[38;5;28;01melif\u001b[39;00m error_code \u001b[38;5;241m==\u001b[39m \u001b[38;5;124m\"\u001b[39m\u001b[38;5;124mGatedRepo\u001b[39m\u001b[38;5;124m\"\u001b[39m:\n\u001b[1;32m    423\u001b[0m     message \u001b[38;5;241m=\u001b[39m (\n\u001b[1;32m    424\u001b[0m         \u001b[38;5;124mf\u001b[39m\u001b[38;5;124m\"\u001b[39m\u001b[38;5;132;01m{\u001b[39;00mresponse\u001b[38;5;241m.\u001b[39mstatus_code\u001b[38;5;132;01m}\u001b[39;00m\u001b[38;5;124m Client Error.\u001b[39m\u001b[38;5;124m\"\u001b[39m \u001b[38;5;241m+\u001b[39m \u001b[38;5;124m\"\u001b[39m\u001b[38;5;130;01m\\n\u001b[39;00m\u001b[38;5;130;01m\\n\u001b[39;00m\u001b[38;5;124m\"\u001b[39m \u001b[38;5;241m+\u001b[39m \u001b[38;5;124mf\u001b[39m\u001b[38;5;124m\"\u001b[39m\u001b[38;5;124mCannot access gated repo for url \u001b[39m\u001b[38;5;132;01m{\u001b[39;00mresponse\u001b[38;5;241m.\u001b[39murl\u001b[38;5;132;01m}\u001b[39;00m\u001b[38;5;124m.\u001b[39m\u001b[38;5;124m\"\u001b[39m\n\u001b[1;32m    425\u001b[0m     )\n",
      "\u001b[0;31mEntryNotFoundError\u001b[0m: 404 Client Error. (Request ID: Root=1-681db6ce-2ce17fee643d74aa79d31cd4;c5c7c007-db80-4f0d-a198-f49796330d85)\n\nEntry Not Found for url: https://huggingface.co/microsoft/speecht5_tts/resolve/main/embeddings/spk1_emb.pt."
     ]
    }
   ],
   "source": [
    "from huggingface_hub import hf_hub_download\n",
    "\n",
    "# Download speaker embedding file\n",
    "embedding_path = hf_hub_download(\n",
    "    repo_id=\"microsoft/speecht5_tts\",\n",
    "    filename=\"embeddings/spk1_emb.pt\"\n",
    ")\n",
    "\n",
    "print(\"Downloaded to:\", embedding_path)\n"
   ]
  },
  {
   "cell_type": "code",
   "execution_count": 1,
   "id": "e4ba96bf",
   "metadata": {},
   "outputs": [],
   "source": [
    "string = \"\"\" \n",
    "Assistant: Based on the context of the document you provided, it seems like you're interested in learning programming and problem-solving through the C language. Here are some book recommendations that might be helpful:\n",
    "\n",
    "1. **\"The C Programming Language\" by Brian Kernighan and Dennis Ritchie**: This is a classic book that's considered a must-read for any C programmer. It covers the basics of the language and provides a comprehensive guide to C programming.\n",
    "2. **\"Programming in C\" by K.N. King**: This book provides a clear and concise introduction to C programming, covering topics such as variables, control structures, functions, and data structures.\n",
    "3. **\"C: How to Program\" by Paul Deitel and Harvey Deitel**: This book is designed for beginners and provides a thorough introduction to C programming, including topics such as variables, control structures, functions, and object-oriented programming.\n",
    "4. **\"Problem Solving with C\" by L. Tsetlin**: This book focuses on problem-solving using C and provides a comprehensive guide to algorithms, data structures, and programming techniques.\n",
    "5. **\"Data Structures and Algorithms in C\" by Mark Allen Weiss**: This book provides a comprehensive guide to data structures and algorithms in C, including topics such as arrays, linked\n",
    "\"\"\""
   ]
  },
  {
   "cell_type": "code",
   "execution_count": 3,
   "id": "63d5b51d",
   "metadata": {},
   "outputs": [
    {
     "name": "stdout",
     "output_type": "stream",
     "text": [
      "Assistant: Based on the context of the document you provided, it seems like you're interested in learning programming and problem-solving through the C language. Here are some book recommendations that might be helpful:\n",
      "\n",
      "1. **\"The C Programming Language\" by Brian Kernighan and Dennis Ritchie**: This is a classic book that's considered a must-read for any C programmer. It covers the basics of the language and provides a comprehensive guide to C programming.\n",
      "2. **\"Programming in C\" by K.N. King**: This book provides a clear and concise introduction to C programming, covering topics such as variables, control structures, functions, and data structures.\n",
      "3. **\"C: How to Program\" by Paul Deitel and Harvey Deitel**: This book is designed for beginners and provides a thorough introduction to C programming, including topics such as variables, control structures, functions, and object-oriented programming.\n",
      "4. **\"Problem Solving with C\" by L. Tsetlin**: This book focuses on problem-solving using C and provides a comprehensive guide to algorithms, data structures, and programming techniques.\n",
      "5. **\"Data Structures and Algorithms in C\" by Mark Allen Weiss**: This book provides a comprehensive guide to data structures and algorithms in C, including topics such as arrays, linked\n"
     ]
    }
   ],
   "source": [
    "print(string.strip())"
   ]
  },
  {
   "cell_type": "code",
   "execution_count": null,
   "id": "67d00d19",
   "metadata": {},
   "outputs": [],
   "source": [
    "import re\n",
    "\n",
    "def preprocess_for_tts(text: str) -> str:\n",
    "    text = text.replace('\\n', ' ')\n",
    "    text = text.replace(\"*\", \"\")\n",
    "    text = text.replace(\"-\", \" \")\n",
    "\n",
    "    # 1. Remove excess whitespace\n",
    "    text = re.sub(r'\\s+', ' ', text)\n",
    "\n",
    "    # 2. Normalize punctuation (remove stray colons, fix spacing)\n",
    "    text = re.sub(r'\\s*:\\s*', ': ', text)\n",
    "    text = re.sub(r'\\s*\\.\\s*', '. ', text)\n",
    "\n",
    "    # 3. Optionally remove \"Assistant:\" or \"User:\" labels\n",
    "    text = re.sub(r'^\\s*(Assistant|User):\\s*', '', text, flags=re.IGNORECASE)\n",
    "\n",
    "    # 4. Trim overall\n",
    "    return text.strip()\n"
   ]
  },
  {
   "cell_type": "code",
   "execution_count": 6,
   "id": "6439b13a",
   "metadata": {},
   "outputs": [
    {
     "name": "stdout",
     "output_type": "stream",
     "text": [
      "Based on the context of the document you provided, it seems like you're interested in learning programming and problem-solving through the C language. Here are some book recommendations that might be helpful: 1. **\"The C Programming Language\" by Brian Kernighan and Dennis Ritchie**: This is a classic book that's considered a must-read for any C programmer. It covers the basics of the language and provides a comprehensive guide to C programming. 2. **\"Programming in C\" by K. N. King**: This book provides a clear and concise introduction to C programming, covering topics such as variables, control structures, functions, and data structures. 3. **\"C: How to Program\" by Paul Deitel and Harvey Deitel**: This book is designed for beginners and provides a thorough introduction to C programming, including topics such as variables, control structures, functions, and object-oriented programming. 4. **\"Problem Solving with C\" by L. Tsetlin**: This book focuses on problem-solving using C and provides a comprehensive guide to algorithms, data structures, and programming techniques. 5. **\"Data Structures and Algorithms in C\" by Mark Allen Weiss**: This book provides a comprehensive guide to data structures and algorithms in C, including topics such as arrays, linked\n"
     ]
    }
   ],
   "source": [
    "print(preprocess_for_tts(string))"
   ]
  },
  {
   "cell_type": "code",
   "execution_count": 7,
   "id": "2d77c0ea",
   "metadata": {},
   "outputs": [],
   "source": [
    "string = \"\"\"\n",
    "\n",
    "**Recommended Books:**\n",
    "\n",
    "1. \"Programming with C\" by Byron S Gottfried (Second edition, 2007)\n",
    "2. \"How to solve it by Computer\" by R.G. Dromey (2008)\n",
    "3. \"Let us C\" by Kanetkar Y (2007)\n",
    "4. \"Problem Solving and Programm design in C\" by Hanly J R & Koffman E.B (2009)\n",
    "\n",
    "**Supplementary Reading:**\n",
    "\n",
    "1. \"Programming with ANSI-C\" by E. Balagurusamy (Fourth Edition, 2008)\n",
    "2. \"Mastering 'C'\" by Venugopal K. R and Prasad S. R (Third Edition, 2008)\n",
    "3. \"The C Programming Language\" by B.W. Kernighan & D. M. Ritchie (Second Edition, 2001)\n",
    "4. \"Programming and Problem Solving Using C\" by ISRD Group (2008)\n",
    "5. \"Programming in C\" by Pradip Dey & Manas Ghosh (2007)\n",
    "\n",
    "These books cover various aspects of C programming, including programming\n",
    "\"\"\""
   ]
  },
  {
   "cell_type": "code",
   "execution_count": 12,
   "id": "d4d27cea",
   "metadata": {},
   "outputs": [
    {
     "data": {
      "text/plain": [
       "['**Recommended Books:**',\n",
       " '1. \"Programming with C\" by Byron S Gottfried (Second edition, 2007)',\n",
       " '2. \"How to solve it by Computer\" by R.G. Dromey (2008)',\n",
       " '3. \"Let us C\" by Kanetkar Y (2007)',\n",
       " '4. \"Problem Solving and Programm design in C\" by Hanly J R & Koffman E.B (2009)',\n",
       " '**Supplementary Reading:**',\n",
       " '1. \"Programming with ANSI-C\" by E. Balagurusamy (Fourth Edition, 2008)',\n",
       " '2. \"Mastering \\'C\\'\" by Venugopal K. R and Prasad S. R (Third Edition, 2008)',\n",
       " '3. \"The C Programming Language\" by B.W. Kernighan & D. M. Ritchie (Second Edition, 2001)',\n",
       " '4. \"Programming and Problem Solving Using C\" by ISRD Group (2008)',\n",
       " '5. \"Programming in C\" by Pradip Dey & Manas Ghosh (2007)',\n",
       " 'These books cover various aspects of C programming, including programming']"
      ]
     },
     "execution_count": 12,
     "metadata": {},
     "output_type": "execute_result"
    }
   ],
   "source": [
    "lines = string.split(\"\\n\")\n",
    "lines = [line.strip() for line in lines if line.strip()]\n",
    "lines "
   ]
  },
  {
   "cell_type": "code",
   "execution_count": 14,
   "id": "029b4e03",
   "metadata": {},
   "outputs": [
    {
     "data": {
      "text/plain": [
       "['**Recommended Books:** ',\n",
       " '1. \"Programming with C\" by Byron S Gottfried (Second edition, 2007) ',\n",
       " '2. \"How to solve it by Computer\" by R.G. Dromey (2008) ',\n",
       " '3. \"Let us C\" by Kanetkar Y (2007) ',\n",
       " '4. \"Problem Solving and Programm design in C\" by Hanly J R & Koffman E.B (2009) ',\n",
       " '**Supplementary Reading:** ',\n",
       " '1. \"Programming with ANSI-C\" by E. Balagurusamy (Fourth Edition, 2008) ',\n",
       " '2. \"Mastering \\'C\\'\" by Venugopal K. R and Prasad S. R (Third Edition, 2008) ',\n",
       " '3. \"The C Programming Language\" by B.W. Kernighan & D. M. Ritchie (Second Edition, 2001) ',\n",
       " '4. \"Programming and Problem Solving Using C\" by ISRD Group (2008) ',\n",
       " '5. \"Programming in C\" by Pradip Dey & Manas Ghosh (2007) ',\n",
       " 'These books cover various aspects of C programming, including programming ']"
      ]
     },
     "execution_count": 14,
     "metadata": {},
     "output_type": "execute_result"
    }
   ],
   "source": [
    "updated = []\n",
    "for line in lines: \n",
    "    line = line + \" \"\n",
    "    updated.append(line)\n",
    "updated"
   ]
  },
  {
   "cell_type": "code",
   "execution_count": 15,
   "id": "6103488f",
   "metadata": {},
   "outputs": [
    {
     "name": "stdout",
     "output_type": "stream",
     "text": [
      "**Recommended Books:** \n",
      "1. \"Programming with C\" by Byron S Gottfried (Second edition, 2007) \n",
      "2. \"How to solve it by Computer\" by R.G. Dromey (2008) \n",
      "3. \"Let us C\" by Kanetkar Y (2007) \n",
      "4. \"Problem Solving and Programm design in C\" by Hanly J R & Koffman E.B (2009) \n",
      "**Supplementary Reading:** \n",
      "1. \"Programming with ANSI-C\" by E. Balagurusamy (Fourth Edition, 2008) \n",
      "2. \"Mastering 'C'\" by Venugopal K. R and Prasad S. R (Third Edition, 2008) \n",
      "3. \"The C Programming Language\" by B.W. Kernighan & D. M. Ritchie (Second Edition, 2001) \n",
      "4. \"Programming and Problem Solving Using C\" by ISRD Group (2008) \n",
      "5. \"Programming in C\" by Pradip Dey & Manas Ghosh (2007) \n",
      "These books cover various aspects of C programming, including programming \n"
     ]
    }
   ],
   "source": [
    "\"\\n\".join(updated)\n",
    "print(\"\\n\".join(updated))"
   ]
  },
  {
   "cell_type": "code",
   "execution_count": null,
   "id": "8568980e",
   "metadata": {},
   "outputs": [],
   "source": [
    "def remove_empty_lines(text: str) -> str:\n",
    "    # Split the text into lines\n",
    "    lines = text.split(\"\\n\")\n",
    "\n",
    "    # Remove empty lines and strip whitespace from each line\n",
    "    non_empty_lines = [line.strip() for line in lines if line.strip()]\n",
    "\n",
    "\n",
    "    spaced_lines = []\n",
    "    for line in non_empty_lines: \n",
    "        line = line + \" \"\n",
    "        spaced_lines.append(line)\n",
    "    \n",
    "    # Join the non-empty lines back into a single string\n",
    "    return \"\\n\".join(spaced_lines)"
   ]
  },
  {
   "cell_type": "code",
   "execution_count": 35,
   "id": "d20537fc",
   "metadata": {},
   "outputs": [],
   "source": [
    "string = \"\"\"\n",
    "\n",
    "**Recommended Books:**\n",
    "\n",
    "1. \"Programming with C\" by Byron S Gottfried (Second edition, 2007)\n",
    "2. \"How to solve it by Computer\" by R.G. Dromey (2008)\n",
    "3. \"Let us C\" by Kanetkar Y (2007)\n",
    "4. \"Problem Solving and Programm design in C\" by Hanly J R & Koffman E.B (2009)\n",
    "\n",
    "**Supplementary Reading:**\n",
    "\n",
    "1. \"Programming with ANSI-C\" by E. Balagurusamy (Fourth Edition, 2008)\n",
    "2. \"Mastering 'C'\" by Venugopal K. R and Prasad S. R (Third Edition, 2008)\n",
    "3. \"The C Programming Language\" by B.W. Kernighan & D. M. Ritchie (Second Edition, 2001)\n",
    "4. \"Programming and Problem Solving Using C\" by ISRD Group (2008)\n",
    "5. \"Programming in C\" by Pradip Dey & Manas Ghosh (2007)\n",
    "\n",
    "These books cover various aspects of C programming, including programming\n",
    "\"\"\""
   ]
  },
  {
   "cell_type": "code",
   "execution_count": 36,
   "id": "9e11a651",
   "metadata": {},
   "outputs": [
    {
     "name": "stdout",
     "output_type": "stream",
     "text": [
      "['', '', '**Recommended Books:**', '', '1. \"Programming with C\" by Byron S Gottfried (Second edition, 2007)', '2. \"How to solve it by Computer\" by R.G. Dromey (2008)', '3. \"Let us C\" by Kanetkar Y (2007)', '4. \"Problem Solving and Programm design in C\" by Hanly J R & Koffman E.B (2009)', '', '**Supplementary Reading:**', '', '1. \"Programming with ANSI-C\" by E. Balagurusamy (Fourth Edition, 2008)', '2. \"Mastering \\'C\\'\" by Venugopal K. R and Prasad S. R (Third Edition, 2008)', '3. \"The C Programming Language\" by B.W. Kernighan & D. M. Ritchie (Second Edition, 2001)', '4. \"Programming and Problem Solving Using C\" by ISRD Group (2008)', '5. \"Programming in C\" by Pradip Dey & Manas Ghosh (2007)', '', 'These books cover various aspects of C programming, including programming', '']\n",
      "['**Recommended Books:**', '1. \"Programming with C\" by Byron S Gottfried (Second edition, 2007)', '2. \"How to solve it by Computer\" by R.G. Dromey (2008)', '3. \"Let us C\" by Kanetkar Y (2007)', '4. \"Problem Solving and Programm design in C\" by Hanly J R & Koffman E.B (2009)', '**Supplementary Reading:**', '1. \"Programming with ANSI-C\" by E. Balagurusamy (Fourth Edition, 2008)', '2. \"Mastering \\'C\\'\" by Venugopal K. R and Prasad S. R (Third Edition, 2008)', '3. \"The C Programming Language\" by B.W. Kernighan & D. M. Ritchie (Second Edition, 2001)', '4. \"Programming and Problem Solving Using C\" by ISRD Group (2008)', '5. \"Programming in C\" by Pradip Dey & Manas Ghosh (2007)', 'These books cover various aspects of C programming, including programming']\n",
      "['**Recommended Books:** ', '1. \"Programming with C\" by Byron S Gottfried (Second edition, 2007) ', '2. \"How to solve it by Computer\" by R.G. Dromey (2008) ', '3. \"Let us C\" by Kanetkar Y (2007) ', '4. \"Problem Solving and Programm design in C\" by Hanly J R & Koffman E.B (2009) ', '**Supplementary Reading:** ', '1. \"Programming with ANSI-C\" by E. Balagurusamy (Fourth Edition, 2008) ', '2. \"Mastering \\'C\\'\" by Venugopal K. R and Prasad S. R (Third Edition, 2008) ', '3. \"The C Programming Language\" by B.W. Kernighan & D. M. Ritchie (Second Edition, 2001) ', '4. \"Programming and Problem Solving Using C\" by ISRD Group (2008) ', '5. \"Programming in C\" by Pradip Dey & Manas Ghosh (2007) ', 'These books cover various aspects of C programming, including programming ']\n",
      "**Recommended Books:** \n",
      "1. \"Programming with C\" by Byron S Gottfried (Second edition, 2007) \n",
      "2. \"How to solve it by Computer\" by R.G. Dromey (2008) \n",
      "3. \"Let us C\" by Kanetkar Y (2007) \n",
      "4. \"Problem Solving and Programm design in C\" by Hanly J R & Koffman E.B (2009) \n",
      "**Supplementary Reading:** \n",
      "1. \"Programming with ANSI-C\" by E. Balagurusamy (Fourth Edition, 2008) \n",
      "2. \"Mastering 'C'\" by Venugopal K. R and Prasad S. R (Third Edition, 2008) \n",
      "3. \"The C Programming Language\" by B.W. Kernighan & D. M. Ritchie (Second Edition, 2001) \n",
      "4. \"Programming and Problem Solving Using C\" by ISRD Group (2008) \n",
      "5. \"Programming in C\" by Pradip Dey & Manas Ghosh (2007) \n",
      "These books cover various aspects of C programming, including programming \n"
     ]
    }
   ],
   "source": [
    "print(remove_empty_lines(string))"
   ]
  },
  {
   "cell_type": "code",
   "execution_count": null,
   "id": "63d2f8bc",
   "metadata": {},
   "outputs": [],
   "source": []
  }
 ],
 "metadata": {
  "kernelspec": {
   "display_name": ".venv",
   "language": "python",
   "name": "python3"
  },
  "language_info": {
   "codemirror_mode": {
    "name": "ipython",
    "version": 3
   },
   "file_extension": ".py",
   "mimetype": "text/x-python",
   "name": "python",
   "nbconvert_exporter": "python",
   "pygments_lexer": "ipython3",
   "version": "3.10.12"
  }
 },
 "nbformat": 4,
 "nbformat_minor": 5
}
