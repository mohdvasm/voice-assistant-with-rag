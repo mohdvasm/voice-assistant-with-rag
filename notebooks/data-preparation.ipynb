{
 "cells": [
  {
   "cell_type": "code",
   "execution_count": 10,
   "id": "40d9b59d",
   "metadata": {},
   "outputs": [
    {
     "name": "stderr",
     "output_type": "stream",
     "text": [
      "/home/vasim/.local/lib/python3.10/site-packages/transformers/tokenization_utils_base.py:1601: FutureWarning: `clean_up_tokenization_spaces` was not set. It will be set to `True` by default. This behavior will be depracted in transformers v4.45, and will be then set to `False` by default. For more details check this issue: https://github.com/huggingface/transformers/issues/31884\n",
      "  warnings.warn(\n"
     ]
    },
    {
     "name": "stdout",
     "output_type": "stream",
     "text": [
      "[[ 6.76569194e-02  6.34959489e-02  4.87130918e-02  7.93049783e-02\n",
      "   3.74480747e-02  2.65276874e-03  3.93749774e-02 -7.09845079e-03\n",
      "   5.93614094e-02  3.15370336e-02  6.00981005e-02 -5.29052056e-02\n",
      "   4.06067669e-02 -2.59308796e-02  2.98428107e-02  1.12689147e-03\n",
      "   7.35149160e-02 -5.03818430e-02 -1.22386597e-01  2.37028003e-02\n",
      "   2.97265332e-02  4.24768515e-02  2.56337710e-02  1.99513510e-03\n",
      "  -5.69190867e-02 -2.71597803e-02 -3.29035632e-02  6.60248846e-02\n",
      "   1.19007207e-01 -4.58791181e-02 -7.26214796e-02 -3.25840078e-02\n",
      "   5.23413271e-02  4.50553335e-02  8.25297181e-03  3.67024168e-02\n",
      "  -1.39415516e-02  6.53918535e-02 -2.64271945e-02  2.06362602e-04\n",
      "  -1.36643825e-02 -3.62810567e-02 -1.95043832e-02 -2.89738029e-02\n",
      "   3.94270532e-02 -8.84090811e-02  2.62423395e-03  1.36713712e-02\n",
      "   4.83062640e-02 -3.11565958e-02 -1.17329188e-01 -5.11690564e-02\n",
      "  -8.85287598e-02 -2.18963306e-02  1.42986402e-02  4.44167927e-02\n",
      "  -1.34815881e-02  7.43392408e-02  2.66382471e-02 -1.98762808e-02\n",
      "   1.79191697e-02 -1.06051834e-02 -9.04262736e-02  2.13269107e-02\n",
      "   1.41204834e-01 -6.47180201e-03 -1.40376808e-03 -1.53609384e-02\n",
      "  -8.73571783e-02  7.22174197e-02  2.01403126e-02  4.25587818e-02\n",
      "  -3.49013805e-02  3.19560146e-04 -8.02970901e-02 -3.27472426e-02\n",
      "   2.85268612e-02 -5.13657816e-02  1.09389178e-01  8.19327980e-02\n",
      "  -9.84040350e-02 -9.34095904e-02 -1.51292002e-02  4.51248661e-02\n",
      "   4.94171940e-02 -2.51868013e-02  1.57077257e-02 -1.29290700e-01\n",
      "   5.31889591e-03  4.02340945e-03 -2.34572031e-02 -6.72983006e-02\n",
      "   2.92280167e-02 -2.60845274e-02  1.30624659e-02 -3.11663412e-02\n",
      "  -4.82713245e-02 -5.58859147e-02 -3.87504734e-02  1.20010845e-01\n",
      "  -1.03923772e-02  4.89705093e-02  5.53537346e-02  4.49358225e-02\n",
      "  -4.00978280e-03 -1.02959804e-01 -2.92969067e-02 -5.83402924e-02\n",
      "   2.70472188e-02 -2.20169146e-02 -7.22241402e-02 -4.13870066e-02\n",
      "  -1.93297882e-02  2.73323059e-03  2.76995997e-04 -9.67588276e-02\n",
      "  -1.00574709e-01 -1.41922366e-02 -8.07892159e-02  4.53925282e-02\n",
      "   2.45040841e-02  5.97613566e-02 -7.38185197e-02  1.19844200e-02\n",
      "  -6.63403720e-02 -7.69044980e-02  3.85157876e-02 -5.59362146e-33\n",
      "   2.80013978e-02 -5.60784712e-02 -4.86601777e-02  2.15569194e-02\n",
      "   6.01980612e-02 -4.81402874e-02 -3.50247398e-02  1.93313919e-02\n",
      "  -1.75152067e-02 -3.89210097e-02 -3.81059060e-03 -1.70287620e-02\n",
      "   2.82099955e-02  1.28290979e-02  4.71601114e-02  6.21030256e-02\n",
      "  -6.43589348e-02  1.29285619e-01 -1.31230894e-02  5.23069873e-02\n",
      "  -3.73680405e-02  2.89094131e-02 -1.68981291e-02 -2.37330552e-02\n",
      "  -3.33491489e-02 -5.16762398e-02  1.55356778e-02  2.08802745e-02\n",
      "  -1.25371953e-02  4.59578708e-02  3.72719988e-02  2.80566681e-02\n",
      "  -5.90004623e-02 -1.16988514e-02  4.92182598e-02  4.70329188e-02\n",
      "   7.35487267e-02 -3.70530337e-02  3.98460962e-03  1.06411763e-02\n",
      "  -1.61489326e-04 -5.27166463e-02  2.75927819e-02 -3.92921492e-02\n",
      "   8.44717696e-02  4.86860573e-02 -4.85875318e-03  1.79948620e-02\n",
      "  -4.28569540e-02  1.23375319e-02  6.39956584e-03  4.04822901e-02\n",
      "   1.48887131e-02 -1.53941205e-02  7.62948245e-02  2.37044152e-02\n",
      "   4.45236899e-02  5.08195907e-02 -2.31255777e-03 -1.88737251e-02\n",
      "  -1.23335682e-02  4.66001555e-02 -5.63437864e-02  6.29927367e-02\n",
      "  -3.15535292e-02  3.24911959e-02  2.34673098e-02 -6.55438155e-02\n",
      "   2.01709867e-02  2.57082544e-02 -1.23869050e-02 -8.36490002e-03\n",
      "  -6.64377883e-02  9.43073332e-02 -3.57092656e-02 -3.42482775e-02\n",
      "  -6.66356878e-03 -8.01528525e-03 -3.09710912e-02  4.33012284e-02\n",
      "  -8.21398664e-03 -1.50795057e-01  3.07691582e-02  4.00719009e-02\n",
      "  -3.79293375e-02  1.93214521e-03  4.00530472e-02 -8.77074972e-02\n",
      "  -3.68490703e-02  8.57958570e-03 -3.19251604e-02 -1.25257913e-02\n",
      "   7.35539421e-02  1.34737790e-03  2.05918364e-02  2.71098183e-33\n",
      "  -5.18576428e-02  5.78360893e-02 -9.18984860e-02  3.94421518e-02\n",
      "   1.05576552e-01 -1.96912028e-02  6.18402138e-02 -7.63465688e-02\n",
      "   2.40880530e-02  9.40048546e-02 -1.16535425e-01  3.71198095e-02\n",
      "   5.22425212e-02 -3.95858008e-03  5.72214425e-02  5.32850437e-03\n",
      "   1.24016874e-01  1.39022740e-02 -1.10249892e-02  3.56053449e-02\n",
      "  -3.30754593e-02  8.16574097e-02 -1.52003914e-02  6.05585538e-02\n",
      "  -6.01397306e-02  3.26102488e-02 -3.48296501e-02 -1.69881787e-02\n",
      "  -9.74906906e-02 -2.71484274e-02  1.74712867e-03 -7.68982694e-02\n",
      "  -4.31858227e-02 -1.89984869e-02 -2.91661173e-02  5.77488206e-02\n",
      "   2.41821744e-02 -1.16902571e-02 -6.21435195e-02  2.84351688e-02\n",
      "  -2.37538698e-04 -2.51783282e-02  4.39635292e-03  8.12840089e-02\n",
      "   3.64183895e-02 -6.04006313e-02 -3.65517512e-02 -7.93748572e-02\n",
      "  -5.08527504e-03  6.69699013e-02 -1.17784359e-01  3.23743299e-02\n",
      "  -4.71252762e-02 -1.34459669e-02 -9.48444754e-02  8.24950263e-03\n",
      "  -1.06748547e-02 -6.81881160e-02  1.11819920e-03  2.48020384e-02\n",
      "  -6.35889173e-02  2.84492914e-02 -2.61303317e-02  8.58111456e-02\n",
      "   1.14682250e-01 -5.35345785e-02 -5.63588552e-02  4.26008925e-02\n",
      "   1.09454691e-02  2.09579486e-02  1.00131139e-01  3.26050892e-02\n",
      "  -1.84208736e-01 -3.93208563e-02 -6.91454858e-02 -6.38104826e-02\n",
      "  -6.56385794e-02 -6.41248887e-03 -4.79612760e-02 -7.68133327e-02\n",
      "   2.95384526e-02 -2.29948144e-02  4.17037085e-02 -2.50047948e-02\n",
      "  -4.54506930e-03 -4.17136699e-02 -1.32290144e-02 -6.38357028e-02\n",
      "  -2.46472517e-03 -1.37337456e-02  1.68977119e-02 -6.30397946e-02\n",
      "   8.98880586e-02  4.18171361e-02 -1.85687784e-02 -1.80442150e-08\n",
      "  -1.67997871e-02 -3.21577936e-02  6.30383641e-02 -4.13091853e-02\n",
      "   4.44819070e-02  2.02464103e-03  6.29592612e-02 -5.17371250e-03\n",
      "  -1.00444118e-02 -3.05639450e-02  3.52672823e-02  5.58581688e-02\n",
      "  -4.67125103e-02  3.45103182e-02  3.29578556e-02  4.30114418e-02\n",
      "   2.94361170e-02 -3.03164609e-02 -1.71107594e-02  7.37484321e-02\n",
      "  -5.47910146e-02  2.77515389e-02  6.20164676e-03  1.58800725e-02\n",
      "   3.42978761e-02 -5.15749305e-03  2.35080142e-02  7.53135756e-02\n",
      "   1.92843266e-02  3.36196683e-02  5.09103611e-02  1.52497068e-01\n",
      "   1.64208133e-02  2.70528533e-02  3.75162326e-02  2.18553655e-02\n",
      "   5.66333793e-02 -3.95746753e-02  7.12313429e-02 -5.41377142e-02\n",
      "   1.03764620e-03  2.11853404e-02 -3.56309563e-02  1.09016880e-01\n",
      "   2.76530953e-03  3.13997455e-02  1.38417527e-03 -3.45738493e-02\n",
      "  -4.59278002e-02  2.88083237e-02  7.16905762e-03  4.84684817e-02\n",
      "   2.61018183e-02 -9.44067724e-03  2.82169729e-02  3.48724611e-02\n",
      "   3.69098708e-02 -8.58946331e-03 -3.53205092e-02 -2.47857254e-02\n",
      "  -1.91921145e-02  3.80707905e-02  5.99652901e-02 -4.22287174e-02]\n",
      " [ 8.64385888e-02  1.02762647e-01  5.39456494e-03  2.04442861e-03\n",
      "  -9.96336341e-03  2.53855251e-02  4.92875241e-02 -3.06265466e-02\n",
      "   6.87254965e-02  1.01365922e-02  7.75397941e-02 -9.00807455e-02\n",
      "   6.10619411e-03 -5.69898784e-02  1.41714867e-02  2.80491728e-02\n",
      "  -8.68464932e-02  7.64399022e-02 -1.03491344e-01 -6.77437931e-02\n",
      "   6.99946880e-02  8.44250768e-02 -7.24912155e-03  1.04770558e-02\n",
      "   1.34020634e-02  6.77577108e-02 -9.42086279e-02 -3.71690094e-02\n",
      "   5.22617586e-02 -3.10853291e-02 -9.63406712e-02  1.57716908e-02\n",
      "   2.57866774e-02  7.85244852e-02  7.89948925e-02  1.91516150e-02\n",
      "   1.64356623e-02  3.10089136e-03  3.81311662e-02  2.37090811e-02\n",
      "   1.05389291e-02 -4.40644957e-02  4.41738665e-02 -2.58728117e-02\n",
      "   6.15378581e-02 -4.05427665e-02 -8.64140168e-02  3.19722556e-02\n",
      "  -8.90666561e-04 -2.44437084e-02 -9.19721052e-02  2.33939495e-02\n",
      "  -8.30293372e-02  4.41510342e-02 -2.49692760e-02  6.23020120e-02\n",
      "  -1.30354450e-03  7.51395449e-02  2.46384908e-02 -6.47244453e-02\n",
      "  -1.17727757e-01  3.83392237e-02 -9.11767110e-02  6.35446012e-02\n",
      "   7.62739703e-02 -8.80241171e-02  9.54558048e-03 -4.69717607e-02\n",
      "  -8.41740742e-02  3.88823561e-02 -1.14393547e-01  6.28856802e-03\n",
      "  -3.49361561e-02  2.39749998e-02 -3.31316963e-02 -1.57244131e-02\n",
      "  -3.78955565e-02 -8.81251041e-03  7.06118643e-02  3.28066461e-02\n",
      "   2.03673262e-03 -1.12278983e-01  6.79718889e-03  1.22765731e-02\n",
      "   3.35303470e-02 -1.36200748e-02 -2.25489940e-02 -2.25228854e-02\n",
      "  -2.03194786e-02  5.04297391e-02 -7.48652890e-02 -8.22822154e-02\n",
      "   7.65962750e-02  4.93391939e-02 -3.75553183e-02  1.44634843e-02\n",
      "  -5.72458059e-02 -1.79954413e-02  1.09697938e-01  1.19462773e-01\n",
      "   8.09270714e-04  6.17057532e-02  3.26322168e-02 -1.30780086e-01\n",
      "  -1.48636654e-01 -6.16232567e-02  4.33886275e-02  2.67129429e-02\n",
      "   1.39786014e-02 -3.94002460e-02 -2.52711661e-02  3.87743651e-03\n",
      "   3.58664691e-02 -6.15420304e-02  3.76660414e-02  2.67565083e-02\n",
      "  -3.82659100e-02 -3.54793407e-02 -2.39227600e-02  8.67977515e-02\n",
      "  -1.84062924e-02  7.71039575e-02  1.39865046e-03  7.00383037e-02\n",
      "  -4.77877893e-02 -7.89819881e-02  5.10814749e-02 -2.99868297e-33\n",
      "  -3.91646251e-02 -2.56207958e-03  1.65210702e-02  9.48938075e-03\n",
      "  -5.66219352e-02  6.57783151e-02 -4.77002971e-02  1.11662373e-02\n",
      "  -5.73558286e-02 -9.16260574e-03 -2.17521060e-02 -5.59531748e-02\n",
      "  -1.11423032e-02  9.32793394e-02  1.66765172e-02 -1.36723453e-02\n",
      "   4.34388407e-02  1.87242392e-03  7.29948748e-03  5.16331829e-02\n",
      "   4.80608381e-02  1.35341406e-01 -1.71739236e-02 -1.29698142e-02\n",
      "  -7.50109851e-02  2.61107516e-02  2.69802175e-02  7.83058640e-04\n",
      "  -4.87270318e-02  1.17842695e-02 -4.59580794e-02 -4.83213477e-02\n",
      "  -1.95671506e-02  1.93889458e-02  1.98807400e-02  1.67432409e-02\n",
      "   9.87801403e-02 -2.74087824e-02  2.34808996e-02  3.70228617e-03\n",
      "  -6.14514686e-02 -1.21229212e-03 -9.50471126e-03  9.25154332e-03\n",
      "   2.38444135e-02  8.61231983e-02  2.26789713e-02  5.45140880e-04\n",
      "   3.47129367e-02  6.25464600e-03 -6.92779897e-03  3.92400436e-02\n",
      "   1.15674874e-02  3.26279812e-02  6.22155331e-02  2.76114307e-02\n",
      "   1.86883397e-02  3.55806053e-02  4.11795899e-02  1.54782217e-02\n",
      "   4.22691368e-02  3.82248387e-02  1.00313481e-02 -2.83245649e-02\n",
      "   4.47052717e-02 -4.10458632e-02 -4.50547040e-03 -5.44734448e-02\n",
      "   2.62320712e-02  1.79862510e-02 -1.23118773e-01 -4.66951840e-02\n",
      "  -1.35913342e-02  6.46710619e-02  3.57346772e-03 -1.22233834e-02\n",
      "  -1.79382283e-02 -2.55501997e-02  2.37224214e-02  4.08667605e-03\n",
      "  -6.51476085e-02  4.43651415e-02  4.68596220e-02 -3.25174704e-02\n",
      "   4.02267696e-03 -3.97601584e-03  1.11939758e-02 -9.95597839e-02\n",
      "   3.33168395e-02  8.01060498e-02  9.42692310e-02 -6.38294220e-02\n",
      "   3.23151499e-02 -5.13553545e-02 -7.49879703e-03  5.30048999e-34\n",
      "  -4.13194858e-02  9.49646905e-02 -1.06401399e-01  4.96590436e-02\n",
      "  -3.41912955e-02 -3.16745862e-02 -1.71556082e-02  1.70103880e-03\n",
      "   5.79758100e-02 -1.21777109e-03 -1.68536101e-02 -5.16912490e-02\n",
      "   5.52998558e-02 -3.42648141e-02  3.08179650e-02 -3.10480800e-02\n",
      "   9.27532539e-02  3.72663662e-02 -2.37398315e-02  4.45893593e-02\n",
      "   1.46153485e-02  1.16239361e-01 -5.00112623e-02  3.88716422e-02\n",
      "   4.24743863e-03  2.56976783e-02  3.27243991e-02  4.29907553e-02\n",
      "  -1.36144711e-02  2.56122351e-02  1.06262742e-02 -8.46863762e-02\n",
      "  -9.52982306e-02  1.08399875e-01 -7.51600116e-02 -1.37773557e-02\n",
      "   6.37338459e-02 -4.49668709e-03 -3.25321630e-02  6.23614192e-02\n",
      "   3.48053016e-02 -3.54922526e-02 -2.00222544e-02  3.66608202e-02\n",
      "  -2.48837303e-02  1.01818116e-02 -7.01233298e-02 -4.31950949e-02\n",
      "   2.95332558e-02 -2.94904341e-04 -3.45386826e-02  1.46675939e-02\n",
      "  -9.83970314e-02 -4.70488146e-02 -8.85496009e-03 -8.89914185e-02\n",
      "   3.50995995e-02 -1.29601941e-01 -4.98866178e-02 -6.12047724e-02\n",
      "  -5.97797707e-02  9.46320128e-03  4.91217971e-02 -7.75026456e-02\n",
      "   8.09727013e-02 -4.79257442e-02  2.34376104e-03  7.57031664e-02\n",
      "  -2.40175594e-02 -1.52546009e-02  4.86738719e-02 -3.85968499e-02\n",
      "  -7.04831406e-02 -1.20348241e-02 -3.88790816e-02 -7.76017010e-02\n",
      "  -1.07243881e-02  1.04188146e-02 -2.13753507e-02 -9.17386338e-02\n",
      "  -1.11345109e-02 -2.96066329e-02  2.46458258e-02  4.65710880e-03\n",
      "  -1.63449775e-02 -3.95219885e-02  7.73373470e-02 -2.84732804e-02\n",
      "  -3.69939022e-03  8.27665031e-02 -1.10409288e-02  3.13983187e-02\n",
      "   5.35094365e-02  5.75145632e-02 -3.17622088e-02 -1.52911266e-08\n",
      "  -7.99661279e-02 -4.76796664e-02 -8.59788433e-02  5.69616891e-02\n",
      "  -4.08866480e-02  2.23832689e-02 -4.64447076e-03 -3.80130634e-02\n",
      "  -3.10671125e-02 -1.07277473e-02  1.97698697e-02  7.77002471e-03\n",
      "  -6.09470857e-03 -3.86376008e-02  2.80271899e-02  6.78137913e-02\n",
      "  -2.35351492e-02  3.21747139e-02  8.02536961e-03 -2.39107404e-02\n",
      "  -1.21994282e-03  3.14598940e-02 -5.24923839e-02 -8.06817040e-03\n",
      "   3.14773712e-03  5.11496551e-02 -4.44104187e-02  6.36013448e-02\n",
      "   3.85084264e-02  3.30432840e-02 -4.18727892e-03  4.95592654e-02\n",
      "  -5.69605231e-02 -6.49713073e-03 -2.49793231e-02 -1.60867237e-02\n",
      "   6.62289560e-02 -2.06310544e-02  1.08045727e-01  1.68547165e-02\n",
      "   1.43812215e-02 -1.32127712e-02 -1.29387408e-01  6.95216581e-02\n",
      "  -5.55773191e-02 -6.75413162e-02 -5.45818871e-03 -6.13591867e-03\n",
      "   3.90840955e-02 -6.28779680e-02  3.74063551e-02 -1.16570685e-02\n",
      "   1.29150096e-02 -5.52495271e-02  5.16075864e-02 -4.30842023e-03\n",
      "   5.80247827e-02  1.86944846e-02  2.27810387e-02  3.21665443e-02\n",
      "   5.37979081e-02  7.02848807e-02  7.49312043e-02 -8.41775090e-02]]\n"
     ]
    }
   ],
   "source": [
    "from sentence_transformers import SentenceTransformer\n",
    "sentences = [\"This is an example sentence\", \"Each sentence is converted\"]\n",
    "\n",
    "model = SentenceTransformer('sentence-transformers/all-MiniLM-L6-v2')\n",
    "embeddings = model.encode(sentences, verbose=False)\n",
    "print(embeddings)"
   ]
  },
  {
   "cell_type": "code",
   "execution_count": 11,
   "id": "e9fbd787",
   "metadata": {},
   "outputs": [],
   "source": [
    "from langchain_huggingface import HuggingFaceEmbeddings\n",
    "\n",
    "# model_name = \"sentence-transformers/all-mpnet-base-v2\"\n",
    "model_name = \"sentence-transformers/all-MiniLM-L6-v2\"\n",
    "model_kwargs = {'device': 'cpu'}\n",
    "encode_kwargs = {'normalize_embeddings': False}\n",
    "embeddings = HuggingFaceEmbeddings(\n",
    "    model_name=model_name,\n",
    "    model_kwargs=model_kwargs,\n",
    "    encode_kwargs=encode_kwargs\n",
    ")"
   ]
  },
  {
   "cell_type": "code",
   "execution_count": 38,
   "id": "ca9014d3",
   "metadata": {},
   "outputs": [],
   "source": [
    "from langchain_community.document_loaders import PyPDFLoader\n",
    "from langchain_text_splitters import RecursiveCharacterTextSplitter\n",
    "\n",
    "file_path = \"/home/vasim/Downloads/PDFs/M3-R4 Programming and Problem Solving through C.pdf\"\n",
    "loader = PyPDFLoader(file_path)"
   ]
  },
  {
   "cell_type": "code",
   "execution_count": 39,
   "id": "5922a05c",
   "metadata": {},
   "outputs": [
    {
     "data": {
      "text/plain": [
       "16"
      ]
     },
     "execution_count": 39,
     "metadata": {},
     "output_type": "execute_result"
    }
   ],
   "source": [
    "documents = loader.load()\n",
    "len(documents)"
   ]
  },
  {
   "cell_type": "code",
   "execution_count": 40,
   "id": "e25b8caa",
   "metadata": {},
   "outputs": [
    {
     "data": {
      "text/plain": [
       "Document(metadata={'producer': 'PyPDF', 'creator': 'Nitro PDF Professional', 'creationdate': '', 'moddate': '2016-05-19T17:37:54+05:30', 'source': '/home/vasim/Downloads/PDFs/M3-R4 Programming and Problem Solving through C.pdf', 'total_pages': 16, 'page': 0, 'page_label': '1'}, page_content='48  \\n \\nM3-R4: PROGRAMMING AND PROBLEM SOLVING THROUGH ‘C’ LANGUAGE  \\n \\n  \\nObjective of the Course \\nThe objectives of this course are to make the stude nt understand programming language, \\nprogramming, concepts of Loops, reading a set of Data, stepwise refinement, Functions, Control \\nstructure, Arrays. After completion of this course the student is expected to analyze the real \\nlife problem and write a program in ‘C’ language to solve the problem. The main emphasis of \\nthe course will be on problem solving aspect i.e. developing proper algorithms.  \\n  \\nAfter completion of the course the student will be able to \\n•  Develop efficient algorithms for solving a problem . \\n•  Use the various constructs of a programming langua ge viz. conditional, iteration and \\nrecursion. \\n•  Implement the algorithms in “C” language. \\n•  Use simple data structures like arrays, stacks and  linked list in solving  problems. \\n•  Handling File in “C”. \\n \\nOutline of Course \\n \\nS. No.   Topic  Minimum number of \\nhours \\n1.  Introduction to Programming  04  \\n2.  Algorithms for Problem Solving  10  \\n3. Introduction to ‘C’ Language   04 \\n4. Conditional  Statements and Loops 07 \\n5. Arrays 06 \\n6. Functions 06 \\n7. Storage Classes 03 \\n8. Structures and Unions 06 \\n9. Pointers 06 \\n10. Self Referential Structures and Linked Lists 04  \\n11. File Processing 04 \\n     \\nLectures  = 60  \\nPractical/tutorials  = 60  \\nTotal  = 120  \\n     \\n \\nDetailed Syllabus \\n \\n1.  Introduction to Programming                                                                                        04 Hrs. \\nThe Basic Model of Computation, Algorithms, Flow-ch arts, Programming Languages, \\nCompilation, Linking and Loading, Testing and Debugging, Documentation  \\n \\n2.  Algorithms for Problem Solving                                                                                   10 Hrs. \\nExchanging values of two variables, summation of a set of numbers, Decimal Base to \\nBinary \\nBase conversion, Reversing digits of an integer, GC D (Greatest Common Division) of')"
      ]
     },
     "execution_count": 40,
     "metadata": {},
     "output_type": "execute_result"
    }
   ],
   "source": [
    "documents[0]"
   ]
  },
  {
   "cell_type": "code",
   "execution_count": 41,
   "id": "fb38045b",
   "metadata": {},
   "outputs": [],
   "source": [
    "text_splitter = RecursiveCharacterTextSplitter(chunk_size=1000, chunk_overlap=200)\n",
    "documents = text_splitter.split_documents(documents)"
   ]
  },
  {
   "cell_type": "code",
   "execution_count": 42,
   "id": "1a012513",
   "metadata": {},
   "outputs": [],
   "source": [
    "import faiss\n",
    "from langchain_community.docstore.in_memory import InMemoryDocstore\n",
    "from langchain_community.vectorstores import FAISS\n",
    "\n",
    "vector_store = FAISS.from_documents(documents, embeddings)"
   ]
  },
  {
   "cell_type": "code",
   "execution_count": 43,
   "id": "9451489a",
   "metadata": {},
   "outputs": [],
   "source": [
    "retriever = vector_store.as_retriever(search_type=\"mmr\", search_kwargs={\"k\": 4})"
   ]
  },
  {
   "cell_type": "code",
   "execution_count": 44,
   "id": "6b86a5e5",
   "metadata": {},
   "outputs": [
    {
     "data": {
      "text/plain": [
       "'50  \\n \\nRECOMMENDED BOOKS  \\nMAIN READING  \\n \\n1. Byron S Gottfried “Programming with C” Second ed ition, Tata McGrawhill, 2007 \\n(Paper back) \\n2. R.G. Dromey, “How to solve it by Computer”, Pear son Education, 2008. \\n3. Kanetkar Y, “Let us C”, BPB Publications, 2007. \\n4. Hanly J R & Koffman E.B, “Problem Solving and Programm design in C”, Pearson \\nEducation, 2009. \\n \\nSUPPLEMENTARY READING \\n \\n1. E. Balagurusamy, “Programming with ANSI-C”, Fourth Edition,2008, Tata McGraw Hill. \\n2. Venugopal K. R and Prasad S. R, “Mastering ‘C’”,  Third Edition, 2008, Tata McGraw \\nHill. \\n3. B.W. Kernighan & D. M. Ritchie, “The C Programming Language”, Second Edition, 2001, \\nPearson Education \\n4. ISRD Group, “Programming and Problem Solving Using C”, Tata McGraw Hill,2008. \\n5. Pradip Dey , Manas Ghosh, “Programming in C”, Ox ford University Press, 2007.'"
      ]
     },
     "execution_count": 44,
     "metadata": {},
     "output_type": "execute_result"
    }
   ],
   "source": [
    "retriever.invoke(\"Books to read\")[0].page_content"
   ]
  },
  {
   "cell_type": "code",
   "execution_count": 47,
   "id": "0c7f892d",
   "metadata": {},
   "outputs": [
    {
     "data": {
      "text/plain": [
       "[Document(id='428be3dd-07a7-4851-9b49-46da7b7699a7', metadata={'producer': 'PyPDF', 'creator': 'Nitro PDF Professional', 'creationdate': '', 'moddate': '2016-05-19T17:37:54+05:30', 'source': '/home/vasim/Downloads/PDFs/M3-R4 Programming and Problem Solving through C.pdf', 'total_pages': 16, 'page': 2, 'page_label': '3'}, page_content='50  \\n \\nRECOMMENDED BOOKS  \\nMAIN READING  \\n \\n1. Byron S Gottfried “Programming with C” Second ed ition, Tata McGrawhill, 2007 \\n(Paper back) \\n2. R.G. Dromey, “How to solve it by Computer”, Pear son Education, 2008. \\n3. Kanetkar Y, “Let us C”, BPB Publications, 2007. \\n4. Hanly J R & Koffman E.B, “Problem Solving and Programm design in C”, Pearson \\nEducation, 2009. \\n \\nSUPPLEMENTARY READING \\n \\n1. E. Balagurusamy, “Programming with ANSI-C”, Fourth Edition,2008, Tata McGraw Hill. \\n2. Venugopal K. R and Prasad S. R, “Mastering ‘C’”,  Third Edition, 2008, Tata McGraw \\nHill. \\n3. B.W. Kernighan & D. M. Ritchie, “The C Programming Language”, Second Edition, 2001, \\nPearson Education \\n4. ISRD Group, “Programming and Problem Solving Using C”, Tata McGraw Hill,2008. \\n5. Pradip Dey , Manas Ghosh, “Programming in C”, Ox ford University Press, 2007.'),\n",
       " Document(id='6b127aed-ac64-4712-885e-b7000dc1ae5d', metadata={'producer': 'PyPDF', 'creator': 'Nitro PDF Professional', 'creationdate': '', 'moddate': '2016-05-19T17:37:54+05:30', 'source': '/home/vasim/Downloads/PDFs/M3-R4 Programming and Problem Solving through C.pdf', 'total_pages': 16, 'page': 1, 'page_label': '2'}, page_content='Deletion from a linked list  \\n \\n11. File Processing                                                                                                            04 Hrs. \\nConcept of Files, File opening in various modes and  closing of a file, Reading from a file, \\nWriting onto a file'),\n",
       " Document(id='c23a7369-3bdc-4645-8b22-92b3bdca2e0f', metadata={'producer': 'PyPDF', 'creator': 'Nitro PDF Professional', 'creationdate': '', 'moddate': '2016-05-19T17:37:54+05:30', 'source': '/home/vasim/Downloads/PDFs/M3-R4 Programming and Problem Solving through C.pdf', 'total_pages': 16, 'page': 13, 'page_label': '14'}, page_content='Sample input for n=3     Sample input for n=4  \\n            Sample output           Sample output \\n3                                                                4 \\n                         3 2 3                                                             4 3 4 \\n                      3 2 1 2 3                                                        4 3 2 3 4 \\n                         3 2 3                                                        4 3 2 1 2 3 4 \\n3 4 3 2 3 4 \\n                                                                    4 3 4 \\n                                                                       4 \\n \\nAssignment 16 .  \\n \\nWrite a program to count the vowels in free text gi ven as standard input. Read text one \\ncharacter at a time until you encounter end-of-data . Then print out the number of \\noccurrences of each of these vowels. \\n \\nAssignment 17 .  \\n \\nWrite a program to copy one file to another such th at every word is reversed before being'),\n",
       " Document(id='f9bcc98d-1ddf-40fd-9725-4558688b5495', metadata={'producer': 'PyPDF', 'creator': 'Nitro PDF Professional', 'creationdate': '', 'moddate': '2016-05-19T17:37:54+05:30', 'source': '/home/vasim/Downloads/PDFs/M3-R4 Programming and Problem Solving through C.pdf', 'total_pages': 16, 'page': 8, 'page_label': '9'}, page_content='1  if  the  passed  Integer  is  prime  returns  0  if  it is  Non  Prime.  In  each  case  ,  \\nit  prints  an  appropriate  message within  it  */ \\n \\nint  main  () \\n{//begin  main int  I_Value; \\n/*  You  May  Employ  other  Simple  Variables  */ VF_Read_Int  (CI_Max,  CI_Min,  \\n&I_Value); \\n/*  Reads  in  an  Integer  Value  within  a  Specified  Range  */ \\nVF_Print_NON_Prime_Factors  (I_Value); \\n/*  Displays  all  the  NON  Prime  Factors  of  the  value  I_Value*/ \\nreturn(0); \\n}//end  main \\n \\na.   Frame the body of the function \\n \\nVF_Read_Int \\n \\n.  The Function heading is as illustrated below : \\n \\nvoid  VF_Read_Int  (int  I_High,  int  I_Low,  int  *PI_X) \\n/*    READS  and  Returns  an  Integer  through  it ’s  pointer  parameter \\nprovided  it  lies  between  a  specific  range  pa ssed  as  the  other  two \\nparameters  .  If  the  value  read  in  within  th e   happens  to  be OUTSIDE  \\nthis  range,  it  will  continue  to    loop  print  the message  {\\\\bf  Input  OUT  of')]"
      ]
     },
     "execution_count": 47,
     "metadata": {},
     "output_type": "execute_result"
    }
   ],
   "source": [
    "retriever.invoke(\"Books to read\")"
   ]
  },
  {
   "cell_type": "code",
   "execution_count": 46,
   "id": "e7123447",
   "metadata": {},
   "outputs": [
    {
     "data": {
      "text/plain": [
       "842"
      ]
     },
     "execution_count": 46,
     "metadata": {},
     "output_type": "execute_result"
    }
   ],
   "source": [
    "len(retriever.invoke(\"Books to read\")[0].page_content)"
   ]
  },
  {
   "cell_type": "code",
   "execution_count": 45,
   "id": "248086d5",
   "metadata": {},
   "outputs": [
    {
     "data": {
      "text/plain": [
       "842"
      ]
     },
     "execution_count": 45,
     "metadata": {},
     "output_type": "execute_result"
    }
   ],
   "source": [
    "842"
   ]
  },
  {
   "cell_type": "code",
   "execution_count": 51,
   "id": "bdb0264c",
   "metadata": {},
   "outputs": [],
   "source": [
    "def get_retriever(\n",
    "    file_path: str,\n",
    "    model_name: str = \"sentence-transformers/all-MiniLM-L6-v2\",\n",
    "    chunk_size: int = 1000,\n",
    "    chunk_overlap: int = 200,\n",
    "    search_type: str = \"mmr\",\n",
    "    search_kwargs: dict = {\"k\": 1},\n",
    ") -> FAISS:\n",
    "    \"\"\"Load a PDF file and create a retriever using FAISS.\"\"\"\n",
    "    loader = PyPDFLoader(file_path)\n",
    "    documents = loader.load()\n",
    "    \n",
    "    text_splitter = RecursiveCharacterTextSplitter(chunk_size=chunk_size, chunk_overlap=chunk_overlap)\n",
    "    documents = text_splitter.split_documents(documents)\n",
    "\n",
    "    embeddings = HuggingFaceEmbeddings(model_name=model_name)\n",
    "    vector_store = FAISS.from_documents(documents, embeddings)\n",
    "    \n",
    "    retriever = vector_store.as_retriever(search_type=search_type, search_kwargs=search_kwargs)\n",
    "    \n",
    "    return retriever"
   ]
  },
  {
   "cell_type": "code",
   "execution_count": 52,
   "id": "57876e6d",
   "metadata": {},
   "outputs": [
    {
     "name": "stderr",
     "output_type": "stream",
     "text": [
      "/home/vasim/.local/lib/python3.10/site-packages/transformers/tokenization_utils_base.py:1601: FutureWarning: `clean_up_tokenization_spaces` was not set. It will be set to `True` by default. This behavior will be depracted in transformers v4.45, and will be then set to `False` by default. For more details check this issue: https://github.com/huggingface/transformers/issues/31884\n",
      "  warnings.warn(\n"
     ]
    }
   ],
   "source": [
    "retriever = get_retriever(file_path)"
   ]
  },
  {
   "cell_type": "code",
   "execution_count": 53,
   "id": "8656d715",
   "metadata": {},
   "outputs": [
    {
     "data": {
      "text/plain": [
       "[Document(id='8f71741b-c142-45b9-a056-08649af2058d', metadata={'producer': 'PyPDF', 'creator': 'Nitro PDF Professional', 'creationdate': '', 'moddate': '2016-05-19T17:37:54+05:30', 'source': '/home/vasim/Downloads/PDFs/M3-R4 Programming and Problem Solving through C.pdf', 'total_pages': 16, 'page': 2, 'page_label': '3'}, page_content='50  \\n \\nRECOMMENDED BOOKS  \\nMAIN READING  \\n \\n1. Byron S Gottfried “Programming with C” Second ed ition, Tata McGrawhill, 2007 \\n(Paper back) \\n2. R.G. Dromey, “How to solve it by Computer”, Pear son Education, 2008. \\n3. Kanetkar Y, “Let us C”, BPB Publications, 2007. \\n4. Hanly J R & Koffman E.B, “Problem Solving and Programm design in C”, Pearson \\nEducation, 2009. \\n \\nSUPPLEMENTARY READING \\n \\n1. E. Balagurusamy, “Programming with ANSI-C”, Fourth Edition,2008, Tata McGraw Hill. \\n2. Venugopal K. R and Prasad S. R, “Mastering ‘C’”,  Third Edition, 2008, Tata McGraw \\nHill. \\n3. B.W. Kernighan & D. M. Ritchie, “The C Programming Language”, Second Edition, 2001, \\nPearson Education \\n4. ISRD Group, “Programming and Problem Solving Using C”, Tata McGraw Hill,2008. \\n5. Pradip Dey , Manas Ghosh, “Programming in C”, Ox ford University Press, 2007.')]"
      ]
     },
     "execution_count": 53,
     "metadata": {},
     "output_type": "execute_result"
    }
   ],
   "source": [
    "retriever.invoke(\"What is the book about?\")"
   ]
  },
  {
   "cell_type": "code",
   "execution_count": 54,
   "id": "763072a3",
   "metadata": {},
   "outputs": [],
   "source": [
    "files = [\n",
    "    \"/home/vasim/Downloads/PDFs/M3-R4 Programming and Problem Solving through C.pdf\",\n",
    "    \"/home/vasim/Downloads/PDFs/M3-R4 Programming and Problem Solving through C.pdf\",\n",
    "]"
   ]
  },
  {
   "cell_type": "code",
   "execution_count": 55,
   "id": "5e2e1506",
   "metadata": {},
   "outputs": [],
   "source": [
    "def get_pdf_content(file_path: str) -> list:\n",
    "    \"\"\"Load a PDF file and return its content as a string.\"\"\"\n",
    "    loader = PyPDFLoader(file_path)\n",
    "    documents = loader.load()\n",
    "    return documents\n",
    "\n",
    "def get_text_content(file_path: str) -> str:\n",
    "    \"\"\"Load a text file and return its content as a string.\"\"\"\n",
    "    with open(file_path, 'r') as file:\n",
    "        content = file.read()\n",
    "    return content"
   ]
  },
  {
   "cell_type": "code",
   "execution_count": 56,
   "id": "a6b2fadf",
   "metadata": {},
   "outputs": [],
   "source": [
    "def get_retriever_of_files(\n",
    "    files: list,\n",
    "    model_name: str = \"sentence-transformers/all-MiniLM-L6-v2\",\n",
    "    chunk_size: int = 1000,\n",
    "    chunk_overlap: int = 200,\n",
    "    search_type: str = \"mmr\",\n",
    "    search_kwargs: dict = {\"k\": 1},\n",
    ") -> FAISS:\n",
    "    \"\"\"Load multiple PDF files and create a retriever using FAISS.\"\"\"\n",
    "    all_documents = []\n",
    "    text_splitter = RecursiveCharacterTextSplitter(chunk_size=chunk_size, chunk_overlap=chunk_overlap)\n",
    "    documents\n",
    "\n",
    "    for file_path in files:\n",
    "        if file_path.endswith('.txt'):\n",
    "            documents = get_text_content(file_path)\n",
    "        elif file_path.endswith('.pdf'):\n",
    "            documents = get_pdf_content(file_path)\n",
    "        else:\n",
    "            raise ValueError(f\"Unsupported file type: {file_path}\")\n",
    "        \n",
    "        all_documents.extend(documents)\n",
    "    \n",
    "    all_documents = text_splitter.split_documents(all_documents)\n",
    "\n",
    "    embeddings = HuggingFaceEmbeddings(model_name=model_name)\n",
    "    vector_store = FAISS.from_documents(all_documents, embeddings)\n",
    "    \n",
    "    retriever = vector_store.as_retriever(search_type=search_type, search_kwargs=search_kwargs)\n",
    "    \n",
    "    return retriever"
   ]
  },
  {
   "cell_type": "code",
   "execution_count": null,
   "id": "746257c4",
   "metadata": {},
   "outputs": [],
   "source": []
  }
 ],
 "metadata": {
  "kernelspec": {
   "display_name": "Python 3",
   "language": "python",
   "name": "python3"
  },
  "language_info": {
   "codemirror_mode": {
    "name": "ipython",
    "version": 3
   },
   "file_extension": ".py",
   "mimetype": "text/x-python",
   "name": "python",
   "nbconvert_exporter": "python",
   "pygments_lexer": "ipython3",
   "version": "3.10.12"
  }
 },
 "nbformat": 4,
 "nbformat_minor": 5
}
